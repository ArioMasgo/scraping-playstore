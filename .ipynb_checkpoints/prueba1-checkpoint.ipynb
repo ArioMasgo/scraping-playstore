{
 "cells": [
  {
   "cell_type": "code",
   "execution_count": 1,
   "id": "23163565-f6b0-42e6-8030-759f1ae1f717",
   "metadata": {},
   "outputs": [
    {
     "name": "stdout",
     "output_type": "stream",
     "text": [
      "hola m,undo\n"
     ]
    }
   ],
   "source": [
    "print(\"hola m,undo\")"
   ]
  },
  {
   "cell_type": "code",
   "execution_count": null,
   "id": "66714397-be63-45b9-9efd-7a0bf44285ea",
   "metadata": {},
   "outputs": [],
   "source": []
  }
 ],
 "metadata": {
  "kernelspec": {
   "display_name": "Python 3 (ipykernel)",
   "language": "python",
   "name": "python3"
  },
  "language_info": {
   "codemirror_mode": {
    "name": "ipython",
    "version": 3
   },
   "file_extension": ".py",
   "mimetype": "text/x-python",
   "name": "python",
   "nbconvert_exporter": "python",
   "pygments_lexer": "ipython3",
   "version": "3.13.0"
  }
 },
 "nbformat": 4,
 "nbformat_minor": 5
}
